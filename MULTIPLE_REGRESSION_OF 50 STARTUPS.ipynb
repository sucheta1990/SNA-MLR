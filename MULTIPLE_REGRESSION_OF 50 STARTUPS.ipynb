{
 "cells": [
  {
   "cell_type": "code",
   "execution_count": 3,
   "id": "f08e6df4",
   "metadata": {},
   "outputs": [],
   "source": [
    "import pandas as pd\n",
    "import numpy as np\n",
    "import seaborn as sns\n",
    "from statsmodels.graphics import regressionplots\n",
    "import statsmodels.formula.api as smf\n",
    "import matplotlib.pyplot as plt\n",
    "%matplotlib inline"
   ]
  },
  {
   "cell_type": "code",
   "execution_count": 4,
   "id": "b50afe83",
   "metadata": {},
   "outputs": [],
   "source": [
    "df=pd.read_csv(\"50_Startups.csv\") # reading the csv file"
   ]
  },
  {
   "cell_type": "code",
   "execution_count": 5,
   "id": "41c54384",
   "metadata": {},
   "outputs": [
    {
     "data": {
      "text/html": [
       "<div>\n",
       "<style scoped>\n",
       "    .dataframe tbody tr th:only-of-type {\n",
       "        vertical-align: middle;\n",
       "    }\n",
       "\n",
       "    .dataframe tbody tr th {\n",
       "        vertical-align: top;\n",
       "    }\n",
       "\n",
       "    .dataframe thead th {\n",
       "        text-align: right;\n",
       "    }\n",
       "</style>\n",
       "<table border=\"1\" class=\"dataframe\">\n",
       "  <thead>\n",
       "    <tr style=\"text-align: right;\">\n",
       "      <th></th>\n",
       "      <th>R&amp;D Spend</th>\n",
       "      <th>Administration</th>\n",
       "      <th>Marketing Spend</th>\n",
       "      <th>State</th>\n",
       "      <th>Profit</th>\n",
       "    </tr>\n",
       "  </thead>\n",
       "  <tbody>\n",
       "    <tr>\n",
       "      <th>0</th>\n",
       "      <td>165349.20</td>\n",
       "      <td>136897.80</td>\n",
       "      <td>471784.10</td>\n",
       "      <td>New York</td>\n",
       "      <td>192261.83</td>\n",
       "    </tr>\n",
       "    <tr>\n",
       "      <th>1</th>\n",
       "      <td>162597.70</td>\n",
       "      <td>151377.59</td>\n",
       "      <td>443898.53</td>\n",
       "      <td>California</td>\n",
       "      <td>191792.06</td>\n",
       "    </tr>\n",
       "    <tr>\n",
       "      <th>2</th>\n",
       "      <td>153441.51</td>\n",
       "      <td>101145.55</td>\n",
       "      <td>407934.54</td>\n",
       "      <td>Florida</td>\n",
       "      <td>191050.39</td>\n",
       "    </tr>\n",
       "    <tr>\n",
       "      <th>3</th>\n",
       "      <td>144372.41</td>\n",
       "      <td>118671.85</td>\n",
       "      <td>383199.62</td>\n",
       "      <td>New York</td>\n",
       "      <td>182901.99</td>\n",
       "    </tr>\n",
       "    <tr>\n",
       "      <th>4</th>\n",
       "      <td>142107.34</td>\n",
       "      <td>91391.77</td>\n",
       "      <td>366168.42</td>\n",
       "      <td>Florida</td>\n",
       "      <td>166187.94</td>\n",
       "    </tr>\n",
       "  </tbody>\n",
       "</table>\n",
       "</div>"
      ],
      "text/plain": [
       "   R&D Spend  Administration  Marketing Spend       State     Profit\n",
       "0  165349.20       136897.80        471784.10    New York  192261.83\n",
       "1  162597.70       151377.59        443898.53  California  191792.06\n",
       "2  153441.51       101145.55        407934.54     Florida  191050.39\n",
       "3  144372.41       118671.85        383199.62    New York  182901.99\n",
       "4  142107.34        91391.77        366168.42     Florida  166187.94"
      ]
     },
     "execution_count": 5,
     "metadata": {},
     "output_type": "execute_result"
    }
   ],
   "source": [
    "df.head()"
   ]
  },
  {
   "cell_type": "code",
   "execution_count": 6,
   "id": "5a47870b",
   "metadata": {},
   "outputs": [
    {
     "name": "stdout",
     "output_type": "stream",
     "text": [
      "<class 'pandas.core.frame.DataFrame'>\n",
      "RangeIndex: 50 entries, 0 to 49\n",
      "Data columns (total 5 columns):\n",
      " #   Column           Non-Null Count  Dtype  \n",
      "---  ------           --------------  -----  \n",
      " 0   R&D Spend        50 non-null     float64\n",
      " 1   Administration   50 non-null     float64\n",
      " 2   Marketing Spend  50 non-null     float64\n",
      " 3   State            50 non-null     object \n",
      " 4   Profit           50 non-null     float64\n",
      "dtypes: float64(4), object(1)\n",
      "memory usage: 2.1+ KB\n"
     ]
    }
   ],
   "source": [
    "df.info()"
   ]
  },
  {
   "cell_type": "code",
   "execution_count": 7,
   "id": "c730680a",
   "metadata": {},
   "outputs": [
    {
     "data": {
      "text/plain": [
       "R&D Spend          0\n",
       "Administration     0\n",
       "Marketing Spend    0\n",
       "State              0\n",
       "Profit             0\n",
       "dtype: int64"
      ]
     },
     "execution_count": 7,
     "metadata": {},
     "output_type": "execute_result"
    }
   ],
   "source": [
    "df.isna().sum()"
   ]
  },
  {
   "cell_type": "code",
   "execution_count": 8,
   "id": "041ead37",
   "metadata": {},
   "outputs": [
    {
     "data": {
      "text/html": [
       "<div>\n",
       "<style scoped>\n",
       "    .dataframe tbody tr th:only-of-type {\n",
       "        vertical-align: middle;\n",
       "    }\n",
       "\n",
       "    .dataframe tbody tr th {\n",
       "        vertical-align: top;\n",
       "    }\n",
       "\n",
       "    .dataframe thead th {\n",
       "        text-align: right;\n",
       "    }\n",
       "</style>\n",
       "<table border=\"1\" class=\"dataframe\">\n",
       "  <thead>\n",
       "    <tr style=\"text-align: right;\">\n",
       "      <th></th>\n",
       "      <th>R&amp;D Spend</th>\n",
       "      <th>Administration</th>\n",
       "      <th>Marketing Spend</th>\n",
       "      <th>Profit</th>\n",
       "    </tr>\n",
       "  </thead>\n",
       "  <tbody>\n",
       "    <tr>\n",
       "      <th>R&amp;D Spend</th>\n",
       "      <td>1.000000</td>\n",
       "      <td>0.241955</td>\n",
       "      <td>0.724248</td>\n",
       "      <td>0.972900</td>\n",
       "    </tr>\n",
       "    <tr>\n",
       "      <th>Administration</th>\n",
       "      <td>0.241955</td>\n",
       "      <td>1.000000</td>\n",
       "      <td>-0.032154</td>\n",
       "      <td>0.200717</td>\n",
       "    </tr>\n",
       "    <tr>\n",
       "      <th>Marketing Spend</th>\n",
       "      <td>0.724248</td>\n",
       "      <td>-0.032154</td>\n",
       "      <td>1.000000</td>\n",
       "      <td>0.747766</td>\n",
       "    </tr>\n",
       "    <tr>\n",
       "      <th>Profit</th>\n",
       "      <td>0.972900</td>\n",
       "      <td>0.200717</td>\n",
       "      <td>0.747766</td>\n",
       "      <td>1.000000</td>\n",
       "    </tr>\n",
       "  </tbody>\n",
       "</table>\n",
       "</div>"
      ],
      "text/plain": [
       "                 R&D Spend  Administration  Marketing Spend    Profit\n",
       "R&D Spend         1.000000        0.241955         0.724248  0.972900\n",
       "Administration    0.241955        1.000000        -0.032154  0.200717\n",
       "Marketing Spend   0.724248       -0.032154         1.000000  0.747766\n",
       "Profit            0.972900        0.200717         0.747766  1.000000"
      ]
     },
     "execution_count": 8,
     "metadata": {},
     "output_type": "execute_result"
    }
   ],
   "source": [
    "df.corr()"
   ]
  },
  {
   "cell_type": "code",
   "execution_count": 9,
   "id": "f0824846",
   "metadata": {},
   "outputs": [],
   "source": [
    "df.rename(columns={'R&D Spend': 'spendRD',\n",
    "                           'Administration':'Administration',\n",
    "                           'Marketing Spend':'spendMarketing'},inplace=True)\n",
    "# rename  the feature names for easy performing"
   ]
  },
  {
   "cell_type": "code",
   "execution_count": 10,
   "id": "f36b06fc",
   "metadata": {},
   "outputs": [
    {
     "name": "stdout",
     "output_type": "stream",
     "text": [
      "Index(['spendRD', 'Administration', 'spendMarketing', 'State', 'Profit'], dtype='object')\n"
     ]
    }
   ],
   "source": [
    "print(df.columns)"
   ]
  },
  {
   "cell_type": "code",
   "execution_count": 11,
   "id": "30f70eed",
   "metadata": {},
   "outputs": [
    {
     "data": {
      "text/html": [
       "<div>\n",
       "<style scoped>\n",
       "    .dataframe tbody tr th:only-of-type {\n",
       "        vertical-align: middle;\n",
       "    }\n",
       "\n",
       "    .dataframe tbody tr th {\n",
       "        vertical-align: top;\n",
       "    }\n",
       "\n",
       "    .dataframe thead th {\n",
       "        text-align: right;\n",
       "    }\n",
       "</style>\n",
       "<table border=\"1\" class=\"dataframe\">\n",
       "  <thead>\n",
       "    <tr style=\"text-align: right;\">\n",
       "      <th></th>\n",
       "      <th>spendRD</th>\n",
       "      <th>Administration</th>\n",
       "      <th>spendMarketing</th>\n",
       "      <th>State</th>\n",
       "      <th>Profit</th>\n",
       "    </tr>\n",
       "  </thead>\n",
       "  <tbody>\n",
       "    <tr>\n",
       "      <th>0</th>\n",
       "      <td>165349.20</td>\n",
       "      <td>136897.80</td>\n",
       "      <td>471784.10</td>\n",
       "      <td>New York</td>\n",
       "      <td>192261.83</td>\n",
       "    </tr>\n",
       "    <tr>\n",
       "      <th>1</th>\n",
       "      <td>162597.70</td>\n",
       "      <td>151377.59</td>\n",
       "      <td>443898.53</td>\n",
       "      <td>California</td>\n",
       "      <td>191792.06</td>\n",
       "    </tr>\n",
       "    <tr>\n",
       "      <th>2</th>\n",
       "      <td>153441.51</td>\n",
       "      <td>101145.55</td>\n",
       "      <td>407934.54</td>\n",
       "      <td>Florida</td>\n",
       "      <td>191050.39</td>\n",
       "    </tr>\n",
       "    <tr>\n",
       "      <th>3</th>\n",
       "      <td>144372.41</td>\n",
       "      <td>118671.85</td>\n",
       "      <td>383199.62</td>\n",
       "      <td>New York</td>\n",
       "      <td>182901.99</td>\n",
       "    </tr>\n",
       "    <tr>\n",
       "      <th>4</th>\n",
       "      <td>142107.34</td>\n",
       "      <td>91391.77</td>\n",
       "      <td>366168.42</td>\n",
       "      <td>Florida</td>\n",
       "      <td>166187.94</td>\n",
       "    </tr>\n",
       "  </tbody>\n",
       "</table>\n",
       "</div>"
      ],
      "text/plain": [
       "     spendRD  Administration  spendMarketing       State     Profit\n",
       "0  165349.20       136897.80       471784.10    New York  192261.83\n",
       "1  162597.70       151377.59       443898.53  California  191792.06\n",
       "2  153441.51       101145.55       407934.54     Florida  191050.39\n",
       "3  144372.41       118671.85       383199.62    New York  182901.99\n",
       "4  142107.34        91391.77       366168.42     Florida  166187.94"
      ]
     },
     "execution_count": 11,
     "metadata": {},
     "output_type": "execute_result"
    }
   ],
   "source": [
    "df.head()"
   ]
  },
  {
   "cell_type": "markdown",
   "id": "4f4d5747",
   "metadata": {},
   "source": [
    "SCATTER PLOTS FOR THE FEATURES OF DATASET TO CHECK CORRELATION"
   ]
  },
  {
   "cell_type": "code",
   "execution_count": 12,
   "id": "103cb64b",
   "metadata": {},
   "outputs": [
    {
     "data": {
      "text/plain": [
       "<seaborn.axisgrid.PairGrid at 0x299ffdc7910>"
      ]
     },
     "execution_count": 12,
     "metadata": {},
     "output_type": "execute_result"
    },
    {
     "data": {
      "image/png": "[encoded data removed]",
      "text/plain": [
       "<Figure size 720x720 with 20 Axes>"
      ]
     },
     "metadata": {},
     "output_type": "display_data"
    }
   ],
   "source": [
    "sns.set_style(\"darkgrid\")\n",
    "sns.pairplot(df)"
   ]
  },
  {
   "cell_type": "markdown",
   "id": "2aa1b5ae",
   "metadata": {},
   "source": [
    "PREPARING THE MODEL ::\n",
    "BUILD MODEL"
   ]
  },
  {
   "cell_type": "code",
   "execution_count": 13,
   "id": "d429998d",
   "metadata": {},
   "outputs": [],
   "source": [
    "import statsmodels.formula.api as smf "
   ]
  },
  {
   "cell_type": "code",
   "execution_count": 14,
   "id": "154fcee9",
   "metadata": {},
   "outputs": [
    {
     "name": "stdout",
     "output_type": "stream",
     "text": [
      "Intercept         1.057379e-09\n",
      "spendRD           2.634968e-22\n",
      "Administration    6.017551e-01\n",
      "spendMarketing    1.047168e-01\n",
      "dtype: float64\n"
     ]
    }
   ],
   "source": [
    "model=smf.ols('Profit~spendRD+Administration+spendMarketing',data=df).fit()\n",
    "print(model.pvalues)"
   ]
  },
  {
   "cell_type": "code",
   "execution_count": 15,
   "id": "520167ab",
   "metadata": {},
   "outputs": [
    {
     "data": {
      "text/plain": [
       "(0.9507459940683246, 0.9475337762901719)"
      ]
     },
     "execution_count": 15,
     "metadata": {},
     "output_type": "execute_result"
    }
   ],
   "source": [
    "(model.rsquared,model.rsquared_adj)"
   ]
  },
  {
   "cell_type": "markdown",
   "id": "889d6601",
   "metadata": {},
   "source": [
    "BUILD SIMPLE REGRESSION MODELS TO FIND  CORRELATION::(THE POINTS WHICH AFFECTS THE PROFIT)"
   ]
  },
  {
   "cell_type": "code",
   "execution_count": 16,
   "id": "5a5d347a",
   "metadata": {},
   "outputs": [
    {
     "name": "stdout",
     "output_type": "stream",
     "text": [
      "Intercept         3.040044\n",
      "Administration    1.419493\n",
      "dtype: float64 \n",
      " Intercept         0.003824\n",
      "Administration    0.162217\n",
      "dtype: float64\n"
     ]
    }
   ],
   "source": [
    "m_1=smf.ols('Profit~Administration',data=df).fit()\n",
    "print(m_1.tvalues,'\\n',m_1.pvalues)"
   ]
  },
  {
   "cell_type": "code",
   "execution_count": 17,
   "id": "0cf8029d",
   "metadata": {},
   "outputs": [
    {
     "name": "stdout",
     "output_type": "stream",
     "text": [
      "Intercept         7.808356\n",
      "spendMarketing    7.802657\n",
      "dtype: float64 \n",
      " Intercept         4.294735e-10\n",
      "spendMarketing    4.381073e-10\n",
      "dtype: float64\n"
     ]
    }
   ],
   "source": [
    "m_2=smf.ols('Profit~spendMarketing',data=df).fit()\n",
    "print(m_2.tvalues,'\\n',m_2.pvalues)"
   ]
  },
  {
   "cell_type": "code",
   "execution_count": 18,
   "id": "139269dd",
   "metadata": {},
   "outputs": [
    {
     "name": "stdout",
     "output_type": "stream",
     "text": [
      "Intercept    19.320288\n",
      "spendRD      29.151139\n",
      "dtype: float64 \n",
      " Intercept    2.782697e-24\n",
      "spendRD      3.500322e-32\n",
      "dtype: float64\n"
     ]
    }
   ],
   "source": [
    "m_3=smf.ols('Profit~spendRD',data=df).fit()\n",
    "print(m_3.tvalues,'\\n',m_3.pvalues)"
   ]
  },
  {
   "cell_type": "code",
   "execution_count": 19,
   "id": "0557c904",
   "metadata": {},
   "outputs": [
    {
     "name": "stdout",
     "output_type": "stream",
     "text": [
      "Intercept         1.142741\n",
      "Administration    2.467779\n",
      "spendMarketing    8.281039\n",
      "dtype: float64 \n",
      " Intercept         2.589341e-01\n",
      "Administration    1.729198e-02\n",
      "spendMarketing    9.727245e-11\n",
      "dtype: float64\n"
     ]
    }
   ],
   "source": [
    "m_AM=smf.ols('Profit~Administration+spendMarketing',data=df).fit()\n",
    "print(m_AM.tvalues,'\\n',m_AM.pvalues)"
   ]
  },
  {
   "cell_type": "code",
   "execution_count": 20,
   "id": "fb5f8007",
   "metadata": {},
   "outputs": [
    {
     "name": "stdout",
     "output_type": "stream",
     "text": [
      "Intercept         17.463582\n",
      "spendRD           19.265555\n",
      "spendMarketing     1.927052\n",
      "dtype: float64 \n",
      " Intercept         3.504062e-22\n",
      "spendRD           6.040433e-24\n",
      "spendMarketing    6.003040e-02\n",
      "dtype: float64\n"
     ]
    }
   ],
   "source": [
    "m_rdmar=smf.ols('Profit~spendRD+spendMarketing',data=df).fit()  \n",
    "print(m_rdmar.tvalues,'\\n',m_rdmar.pvalues)"
   ]
  },
  {
   "cell_type": "markdown",
   "id": "1dbe859d",
   "metadata": {},
   "source": [
    "CALCULATING VIF"
   ]
  },
  {
   "cell_type": "code",
   "execution_count": 21,
   "id": "a77f7a2d",
   "metadata": {},
   "outputs": [
    {
     "data": {
      "text/html": [
       "<div>\n",
       "<style scoped>\n",
       "    .dataframe tbody tr th:only-of-type {\n",
       "        vertical-align: middle;\n",
       "    }\n",
       "\n",
       "    .dataframe tbody tr th {\n",
       "        vertical-align: top;\n",
       "    }\n",
       "\n",
       "    .dataframe thead th {\n",
       "        text-align: right;\n",
       "    }\n",
       "</style>\n",
       "<table border=\"1\" class=\"dataframe\">\n",
       "  <thead>\n",
       "    <tr style=\"text-align: right;\">\n",
       "      <th></th>\n",
       "      <th>varibles</th>\n",
       "      <th>VIF</th>\n",
       "    </tr>\n",
       "  </thead>\n",
       "  <tbody>\n",
       "    <tr>\n",
       "      <th>0</th>\n",
       "      <td>spendRD</td>\n",
       "      <td>2.468903</td>\n",
       "    </tr>\n",
       "    <tr>\n",
       "      <th>1</th>\n",
       "      <td>Admini</td>\n",
       "      <td>1.175091</td>\n",
       "    </tr>\n",
       "    <tr>\n",
       "      <th>2</th>\n",
       "      <td>spendmarket</td>\n",
       "      <td>2.326773</td>\n",
       "    </tr>\n",
       "  </tbody>\n",
       "</table>\n",
       "</div>"
      ],
      "text/plain": [
       "      varibles       VIF\n",
       "0      spendRD  2.468903\n",
       "1       Admini  1.175091\n",
       "2  spendmarket  2.326773"
      ]
     },
     "execution_count": 21,
     "metadata": {},
     "output_type": "execute_result"
    }
   ],
   "source": [
    "rsq_spendRD=smf.ols('spendRD~Administration+spendMarketing',data=df).fit().rsquared\n",
    "vif_spendRD=1/(1-rsq_spendRD)\n",
    "rsq_Admin=smf.ols('Administration~spendMarketing+spendRD',data=df).fit().rsquared\n",
    "vif_Admin=1/(1-rsq_Admin)\n",
    "rsq_spendmarket=smf.ols('spendMarketing~spendRD+Administration',data=df).fit().rsquared\n",
    "vif_spendmarket=1/(1-rsq_spendmarket)\n",
    "d1={'varibles':['spendRD','Admini','spendmarket'],'VIF':[vif_spendRD,vif_Admin,vif_spendmarket]}\n",
    "vif_frame=pd.DataFrame(d1)\n",
    "vif_frame"
   ]
  },
  {
   "cell_type": "markdown",
   "id": "99ee2faf",
   "metadata": {},
   "source": [
    "CHECK FOR NORMALITY BY QQPLOTS"
   ]
  },
  {
   "cell_type": "code",
   "execution_count": 22,
   "id": "e1515050",
   "metadata": {},
   "outputs": [
    {
     "data": {
      "image/png": "[encoded data removed]",
      "text/plain": [
       "<Figure size 432x288 with 1 Axes>"
      ]
     },
     "metadata": {},
     "output_type": "display_data"
    }
   ],
   "source": [
    "import statsmodels.api as sm\n",
    "qqplot=sm.qqplot(model.resid,line='q')\n",
    "plt.title(\"QQplots for Normality\")\n",
    "plt.show()"
   ]
  },
  {
   "cell_type": "markdown",
   "id": "2f50eb9f",
   "metadata": {},
   "source": [
    "TO CHECK FOR HOMOSCEDASTICITY"
   ]
  },
  {
   "cell_type": "code",
   "execution_count": 23,
   "id": "301b8e1f",
   "metadata": {},
   "outputs": [],
   "source": [
    "def get_standard_values(values):\n",
    "    return (values-values.mean())/(values.std())"
   ]
  },
  {
   "cell_type": "code",
   "execution_count": 24,
   "id": "43a6abe0",
   "metadata": {},
   "outputs": [
    {
     "data": {
      "image/png": "[encoded data removed]",
      "text/plain": [
       "<Figure size 432x288 with 1 Axes>"
      ]
     },
     "metadata": {},
     "output_type": "display_data"
    }
   ],
   "source": [
    "plt.scatter(get_standard_values(model.fittedvalues),get_standard_values(model.resid))\n",
    "plt.title(\"Residual plot\")\n",
    "plt.xlabel(\"model fitted values\")\n",
    "plt.ylabel(\"model Residual values\")\n",
    "plt.show()"
   ]
  },
  {
   "cell_type": "markdown",
   "id": "19058a57",
   "metadata": {},
   "source": [
    "MODEL DELETION\n",
    "COOK'S DISTANCE\n"
   ]
  },
  {
   "cell_type": "code",
   "execution_count": 25,
   "id": "6a26f602",
   "metadata": {},
   "outputs": [],
   "source": [
    "#cooksdistance #1\n",
    "model_influence=model.get_influence()\n",
    "(c,_)=model_influence.cooks_distance"
   ]
  },
  {
   "cell_type": "code",
   "execution_count": 28,
   "id": "9f3eccf9",
   "metadata": {},
   "outputs": [
    {
     "data": {
      "image/png": "[encoded data removed]",
      "text/plain": [
       "<Figure size 720x576 with 1 Axes>"
      ]
     },
     "metadata": {},
     "output_type": "display_data"
    }
   ],
   "source": [
    "fig=plt.subplots(figsize=(10,8))\n",
    "plt.stem(np.arange(len(df)),np.round(c,3))\n",
    "plt.xlabel(\"row index\")\n",
    "plt.ylabel(\"Cooksdistance\")\n",
    "plt.show()"
   ]
  },
  {
   "cell_type": "code",
   "execution_count": 29,
   "id": "c0bb5548",
   "metadata": {},
   "outputs": [
    {
     "data": {
      "text/plain": [
       "(49, 0.28808229275432634)"
      ]
     },
     "execution_count": 29,
     "metadata": {},
     "output_type": "execute_result"
    }
   ],
   "source": [
    "(np.argmax(c),np.max(c))"
   ]
  },
  {
   "cell_type": "markdown",
   "id": "66172734",
   "metadata": {},
   "source": [
    "TO CHECK HIGH INFLUENCE PLOTS ALSO"
   ]
  },
  {
   "cell_type": "code",
   "execution_count": 30,
   "id": "45827288",
   "metadata": {},
   "outputs": [
    {
     "data": {
      "image/png": "[encoded data removed]",
      "text/plain": [
       "<Figure size 432x288 with 1 Axes>"
      ]
     },
     "metadata": {},
     "output_type": "display_data"
    }
   ],
   "source": [
    "from statsmodels.graphics.regressionplots import influence_plot\n",
    "influence_plot(model)\n",
    "plt.show()"
   ]
  },
  {
   "cell_type": "code",
   "execution_count": 27,
   "id": "d68b9dce",
   "metadata": {},
   "outputs": [
    {
     "data": {
      "text/html": [
       "<div>\n",
       "<style scoped>\n",
       "    .dataframe tbody tr th:only-of-type {\n",
       "        vertical-align: middle;\n",
       "    }\n",
       "\n",
       "    .dataframe tbody tr th {\n",
       "        vertical-align: top;\n",
       "    }\n",
       "\n",
       "    .dataframe thead th {\n",
       "        text-align: right;\n",
       "    }\n",
       "</style>\n",
       "<table border=\"1\" class=\"dataframe\">\n",
       "  <thead>\n",
       "    <tr style=\"text-align: right;\">\n",
       "      <th></th>\n",
       "      <th>spendRD</th>\n",
       "      <th>Administration</th>\n",
       "      <th>spendMarketing</th>\n",
       "      <th>State</th>\n",
       "      <th>Profit</th>\n",
       "    </tr>\n",
       "  </thead>\n",
       "  <tbody>\n",
       "    <tr>\n",
       "      <th>48</th>\n",
       "      <td>542.05</td>\n",
       "      <td>51743.15</td>\n",
       "      <td>0.00</td>\n",
       "      <td>New York</td>\n",
       "      <td>35673.41</td>\n",
       "    </tr>\n",
       "    <tr>\n",
       "      <th>49</th>\n",
       "      <td>0.00</td>\n",
       "      <td>116983.80</td>\n",
       "      <td>45173.06</td>\n",
       "      <td>California</td>\n",
       "      <td>14681.40</td>\n",
       "    </tr>\n",
       "  </tbody>\n",
       "</table>\n",
       "</div>"
      ],
      "text/plain": [
       "    spendRD  Administration  spendMarketing       State    Profit\n",
       "48   542.05        51743.15            0.00    New York  35673.41\n",
       "49     0.00       116983.80        45173.06  California  14681.40"
      ]
     },
     "execution_count": 27,
     "metadata": {},
     "output_type": "execute_result"
    }
   ],
   "source": [
    "df[df.index.isin([48,49])]"
   ]
  },
  {
   "cell_type": "code",
   "execution_count": 28,
   "id": "792ed5ef",
   "metadata": {},
   "outputs": [],
   "source": [
    "df1=df.copy()"
   ]
  },
  {
   "cell_type": "code",
   "execution_count": 29,
   "id": "a6b2c76b",
   "metadata": {},
   "outputs": [
    {
     "data": {
      "text/html": [
       "<div>\n",
       "<style scoped>\n",
       "    .dataframe tbody tr th:only-of-type {\n",
       "        vertical-align: middle;\n",
       "    }\n",
       "\n",
       "    .dataframe tbody tr th {\n",
       "        vertical-align: top;\n",
       "    }\n",
       "\n",
       "    .dataframe thead th {\n",
       "        text-align: right;\n",
       "    }\n",
       "</style>\n",
       "<table border=\"1\" class=\"dataframe\">\n",
       "  <thead>\n",
       "    <tr style=\"text-align: right;\">\n",
       "      <th></th>\n",
       "      <th>spendRD</th>\n",
       "      <th>Administration</th>\n",
       "      <th>spendMarketing</th>\n",
       "      <th>State</th>\n",
       "      <th>Profit</th>\n",
       "    </tr>\n",
       "  </thead>\n",
       "  <tbody>\n",
       "    <tr>\n",
       "      <th>0</th>\n",
       "      <td>165349.20</td>\n",
       "      <td>136897.80</td>\n",
       "      <td>471784.10</td>\n",
       "      <td>New York</td>\n",
       "      <td>192261.83</td>\n",
       "    </tr>\n",
       "    <tr>\n",
       "      <th>1</th>\n",
       "      <td>162597.70</td>\n",
       "      <td>151377.59</td>\n",
       "      <td>443898.53</td>\n",
       "      <td>California</td>\n",
       "      <td>191792.06</td>\n",
       "    </tr>\n",
       "    <tr>\n",
       "      <th>2</th>\n",
       "      <td>153441.51</td>\n",
       "      <td>101145.55</td>\n",
       "      <td>407934.54</td>\n",
       "      <td>Florida</td>\n",
       "      <td>191050.39</td>\n",
       "    </tr>\n",
       "    <tr>\n",
       "      <th>3</th>\n",
       "      <td>144372.41</td>\n",
       "      <td>118671.85</td>\n",
       "      <td>383199.62</td>\n",
       "      <td>New York</td>\n",
       "      <td>182901.99</td>\n",
       "    </tr>\n",
       "    <tr>\n",
       "      <th>4</th>\n",
       "      <td>142107.34</td>\n",
       "      <td>91391.77</td>\n",
       "      <td>366168.42</td>\n",
       "      <td>Florida</td>\n",
       "      <td>166187.94</td>\n",
       "    </tr>\n",
       "  </tbody>\n",
       "</table>\n",
       "</div>"
      ],
      "text/plain": [
       "     spendRD  Administration  spendMarketing       State     Profit\n",
       "0  165349.20       136897.80       471784.10    New York  192261.83\n",
       "1  162597.70       151377.59       443898.53  California  191792.06\n",
       "2  153441.51       101145.55       407934.54     Florida  191050.39\n",
       "3  144372.41       118671.85       383199.62    New York  182901.99\n",
       "4  142107.34        91391.77       366168.42     Florida  166187.94"
      ]
     },
     "execution_count": 29,
     "metadata": {},
     "output_type": "execute_result"
    }
   ],
   "source": [
    "df2=df1.drop(df1.index[[48,49]],axis=0).reset_index()\n",
    "df2=(df2.drop(['index'],axis=1))\n",
    "df2.head()"
   ]
  },
  {
   "cell_type": "markdown",
   "id": "d2962036",
   "metadata": {},
   "source": [
    "BUILD A MODEL"
   ]
  },
  {
   "cell_type": "code",
   "execution_count": 43,
   "id": "c2320426",
   "metadata": {},
   "outputs": [
    {
     "data": {
      "text/plain": [
       "(0.5625802937857887, 1110.8101546830774)"
      ]
     },
     "execution_count": 43,
     "metadata": {},
     "output_type": "execute_result"
    }
   ],
   "source": [
    "#exclude the feature RDspend and check rsquared and aic values\n",
    "final_rdspend=smf.ols('Profit~Administration+spendMarketing',data=df2).fit()\n",
    "(final_rdspend.rsquared,final_rdspend.aic)"
   ]
  },
  {
   "cell_type": "code",
   "execution_count": 31,
   "id": "592a5cc2",
   "metadata": {},
   "outputs": [
    {
     "data": {
      "text/plain": [
       "(0.9613542664192156, 994.3402293693792)"
      ]
     },
     "execution_count": 31,
     "metadata": {},
     "output_type": "execute_result"
    }
   ],
   "source": [
    "#exculde the feature Marketingspend and check rsquared and aic values\n",
    "final_spendmar=smf.ols('Profit~Administration+spendRD',data=df2).fit()\n",
    "(final_spendmar.rsquared,final_spendmar.aic)"
   ]
  },
  {
   "cell_type": "markdown",
   "id": "b40c2b8c",
   "metadata": {},
   "source": [
    "THE VALUE OF MARKTINGSPEND HAS HIGH RSQUARED AND LESS AIC WE SELECT THIS MODEL (\"final_spendmar\")"
   ]
  },
  {
   "cell_type": "code",
   "execution_count": 32,
   "id": "7175df03",
   "metadata": {},
   "outputs": [],
   "source": [
    "# again check for the max of cooks distance and rebulid the model of confirmation\n",
    "model_f_influence=final_spendmar.get_influence()\n",
    "(c_mar,_)=model_f_influence.cooks_distance"
   ]
  },
  {
   "cell_type": "code",
   "execution_count": 47,
   "id": "f740eefe",
   "metadata": {},
   "outputs": [
    {
     "data": {
      "image/png": "[encoded data removed]",
      "text/plain": [
       "<Figure size 576x360 with 1 Axes>"
      ]
     },
     "metadata": {},
     "output_type": "display_data"
    }
   ],
   "source": [
    "fig=plt.subplots(figsize=(8,5))\n",
    "plt.stem(np.arange(len(df2)),np.round(c_mar,3))\n",
    "plt.xlabel(\"Rowindex\")\n",
    "plt.ylabel(\"CooksDistance\")\n",
    "plt.show()"
   ]
  },
  {
   "cell_type": "code",
   "execution_count": 33,
   "id": "1b0fb73a",
   "metadata": {},
   "outputs": [
    {
     "data": {
      "text/plain": [
       "(14, 0.1165446497672248)"
      ]
     },
     "execution_count": 33,
     "metadata": {},
     "output_type": "execute_result"
    }
   ],
   "source": [
    "(np.argmax(c_mar),np.max(c_mar))"
   ]
  },
  {
   "cell_type": "markdown",
   "id": "40250ac4",
   "metadata": {},
   "source": [
    "SINCE THE VALUE IS <<1 WE CAN STOP THE DIAGONSTIC PROCESS AND FINALISE THE MODEL"
   ]
  },
  {
   "cell_type": "code",
   "execution_count": 34,
   "id": "fa160244",
   "metadata": {},
   "outputs": [
    {
     "data": {
      "text/plain": [
       "(0.9613542664192156, 994.3402293693792)"
      ]
     },
     "execution_count": 34,
     "metadata": {},
     "output_type": "execute_result"
    }
   ],
   "source": [
    "# CHECK THE ACCURACY MODE OF THE MODEL\n",
    "final_marketingspend=smf.ols('Profit~spendRD+Administration',data=df2).fit()\n",
    "(final_marketingspend.rsquared,final_marketingspend.aic)"
   ]
  },
  {
   "cell_type": "code",
   "execution_count": null,
   "id": "07af23a3",
   "metadata": {},
   "outputs": [],
   "source": []
  }
 ],
 "metadata": {
  "kernelspec": {
   "display_name": "Python 3",
   "language": "python",
   "name": "python3"
  },
  "language_info": {
   "codemirror_mode": {
    "name": "ipython",
    "version": 3
   },
   "file_extension": ".py",
   "mimetype": "text/x-python",
   "name": "python",
   "nbconvert_exporter": "python",
   "pygments_lexer": "ipython3",
   "version": "3.8.8"
  }
 },
 "nbformat": 4,
 "nbformat_minor": 5
}
